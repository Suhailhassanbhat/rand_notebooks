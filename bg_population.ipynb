{
 "cells": [
  {
   "cell_type": "code",
   "execution_count": 1,
   "metadata": {},
   "outputs": [],
   "source": [
    "import pandas as pd\n",
    "import re"
   ]
  },
  {
   "cell_type": "code",
   "execution_count": 2,
   "metadata": {},
   "outputs": [],
   "source": [
    "df=pd.read_csv(\"race_2020.csv\")"
   ]
  },
  {
   "cell_type": "code",
   "execution_count": 3,
   "metadata": {},
   "outputs": [],
   "source": [
    "df.columns=df.iloc[0]"
   ]
  },
  {
   "cell_type": "code",
   "execution_count": 4,
   "metadata": {},
   "outputs": [],
   "source": [
    "df=df[1:]"
   ]
  },
  {
   "cell_type": "code",
   "execution_count": 5,
   "metadata": {},
   "outputs": [],
   "source": [
    "df=df[['id', 'Geographic Area Name', ' !!Total:',\n",
    "       ' !!Total:!!Hispanic or Latino',\n",
    "       ' !!Total:!!Not Hispanic or Latino:!!Population of one race:!!White alone',\n",
    "       ' !!Total:!!Not Hispanic or Latino:!!Population of one race:!!Black or African American alone',\n",
    "       ' !!Total:!!Not Hispanic or Latino:!!Population of one race:!!American Indian and Alaska Native alone',\n",
    "       ' !!Total:!!Not Hispanic or Latino:!!Population of one race:!!Asian alone',\n",
    "       ' !!Total:!!Not Hispanic or Latino:!!Population of one race:!!Native Hawaiian and Other Pacific Islander alone',\n",
    "       ' !!Total:!!Not Hispanic or Latino:!!Population of one race:!!Some Other Race alone',\n",
    "       ' !!Total:!!Not Hispanic or Latino:!!Population of two or more races:']]"
   ]
  },
  {
   "cell_type": "code",
   "execution_count": 6,
   "metadata": {},
   "outputs": [],
   "source": [
    "column_names={'Geographic Area Name':'bg_name', \n",
    "' !!Total:':\"pop20\",\n",
    "' !!Total:!!Hispanic or Latino':'hisp20', \n",
    "' !!Total:!!Not Hispanic or Latino:!!Population of one race:!!White alone':'white20',\n",
    "' !!Total:!!Not Hispanic or Latino:!!Population of one race:!!Black or African American alone':'black20',\n",
    "' !!Total:!!Not Hispanic or Latino:!!Population of one race:!!American Indian and Alaska Native alone':'aian20',\n",
    "' !!Total:!!Not Hispanic or Latino:!!Population of one race:!!Asian alone':'asian20',\n",
    "' !!Total:!!Not Hispanic or Latino:!!Population of one race:!!Native Hawaiian and Other Pacific Islander alone':'naopi20',\n",
    "' !!Total:!!Not Hispanic or Latino:!!Population of one race:!!Some Other Race alone':'other_race20',\n",
    "' !!Total:!!Not Hispanic or Latino:!!Population of two or more races:':'multi_race20'}"
   ]
  },
  {
   "cell_type": "code",
   "execution_count": 7,
   "metadata": {},
   "outputs": [],
   "source": [
    "df=df.rename(columns=column_names).reset_index(drop=True)"
   ]
  },
  {
   "cell_type": "code",
   "execution_count": 8,
   "metadata": {},
   "outputs": [],
   "source": [
    "df[['pop20', 'hisp20', 'white20', 'black20', 'aian20',\n",
    "       'asian20', 'naopi20', 'other_race20', 'multi_race20']]=df[['pop20', 'hisp20', 'white20', 'black20', 'aian20',\n",
    "       'asian20', 'naopi20', 'other_race20', 'multi_race20']].apply(pd.to_numeric)"
   ]
  },
  {
   "cell_type": "code",
   "execution_count": 9,
   "metadata": {},
   "outputs": [
    {
     "name": "stdout",
     "output_type": "stream",
     "text": [
      "<class 'pandas.core.frame.DataFrame'>\n",
      "RangeIndex: 3581 entries, 0 to 3580\n",
      "Data columns (total 11 columns):\n",
      " #   Column        Non-Null Count  Dtype \n",
      "---  ------        --------------  ----- \n",
      " 0   id            3581 non-null   object\n",
      " 1   bg_name       3581 non-null   object\n",
      " 2   pop20         3581 non-null   int64 \n",
      " 3   hisp20        3581 non-null   int64 \n",
      " 4   white20       3581 non-null   int64 \n",
      " 5   black20       3581 non-null   int64 \n",
      " 6   aian20        3581 non-null   int64 \n",
      " 7   asian20       3581 non-null   int64 \n",
      " 8   naopi20       3581 non-null   int64 \n",
      " 9   other_race20  3581 non-null   int64 \n",
      " 10  multi_race20  3581 non-null   int64 \n",
      "dtypes: int64(9), object(2)\n",
      "memory usage: 307.9+ KB\n"
     ]
    }
   ],
   "source": [
    "df.info()"
   ]
  },
  {
   "cell_type": "code",
   "execution_count": 10,
   "metadata": {},
   "outputs": [],
   "source": [
    "df['non_white20']=df.pop20-df.white20"
   ]
  },
  {
   "cell_type": "code",
   "execution_count": 11,
   "metadata": {},
   "outputs": [],
   "source": [
    "df['pct_white20']=(df.white20*100/df.pop20).round()\n",
    "df['pct_non_white20']=(df.non_white20*100/df.pop20).round()\n",
    "df['pct_black20']=(df.black20*100/df.pop20).round()"
   ]
  },
  {
   "cell_type": "code",
   "execution_count": 12,
   "metadata": {},
   "outputs": [],
   "source": [
    "df[\"GEOID20\"]=df.id.str.replace(\"1500000US\",\"\")"
   ]
  },
  {
   "cell_type": "code",
   "execution_count": 13,
   "metadata": {},
   "outputs": [],
   "source": [
    "df['bg_name']=df.bg_name.str.extract(r'(Block Group \\d+, Census Tract \\d+)')"
   ]
  },
  {
   "cell_type": "code",
   "execution_count": 14,
   "metadata": {},
   "outputs": [],
   "source": [
    "df=df[['GEOID20', 'bg_name', 'pct_white20', 'pct_non_white20', 'pct_black20', ]]"
   ]
  },
  {
   "cell_type": "code",
   "execution_count": 15,
   "metadata": {},
   "outputs": [],
   "source": [
    "df.to_csv(\"2020_pop_bg.csv\", index=False)"
   ]
  },
  {
   "cell_type": "code",
   "execution_count": 16,
   "metadata": {},
   "outputs": [],
   "source": [
    "df10=pd.read_csv(\"race_2010.csv\")"
   ]
  },
  {
   "cell_type": "code",
   "execution_count": 17,
   "metadata": {},
   "outputs": [],
   "source": [
    "df10.columns=df10.iloc[0]\n",
    "df10=df10[1:]"
   ]
  },
  {
   "cell_type": "code",
   "execution_count": 18,
   "metadata": {},
   "outputs": [],
   "source": [
    "df10=df10[['id', 'Geographic Area Name', 'Total',\n",
    "       'Total!!Not Hispanic or Latino!!White alone',\n",
    "       'Total!!Not Hispanic or Latino!!Black or African American alone',\n",
    "       'Total!!Not Hispanic or Latino!!American Indian and Alaska Native alone',\n",
    "       'Total!!Not Hispanic or Latino!!Asian alone',\n",
    "       'Total!!Not Hispanic or Latino!!Native Hawaiian and Other Pacific Islander alone',\n",
    "       'Total!!Not Hispanic or Latino!!Some Other Race alone',\n",
    "       'Total!!Not Hispanic or Latino!!Two or More Races',\n",
    "       'Total!!Hispanic or Latino']]"
   ]
  },
  {
   "cell_type": "code",
   "execution_count": 19,
   "metadata": {},
   "outputs": [],
   "source": [
    "column_names10={'Geographic Area Name':'bg_name',\n",
    "                'Total':'pop10', \n",
    "       'Total!!Not Hispanic or Latino!!White alone':'white10',\n",
    "       'Total!!Not Hispanic or Latino!!Black or African American alone':'black10',\n",
    "       'Total!!Not Hispanic or Latino!!American Indian and Alaska Native alone':'aian10',\n",
    "       'Total!!Not Hispanic or Latino!!Asian alone':'asian10',\n",
    "       'Total!!Not Hispanic or Latino!!Native Hawaiian and Other Pacific Islander alone':'naopi10',\n",
    "       'Total!!Not Hispanic or Latino!!Some Other Race alone':'other_race10',\n",
    "       'Total!!Not Hispanic or Latino!!Two or More Races':'multi_race10',\n",
    "       'Total!!Hispanic or Latino':'hisp10'}"
   ]
  },
  {
   "cell_type": "code",
   "execution_count": 20,
   "metadata": {},
   "outputs": [],
   "source": [
    "df10=df10.rename(columns=column_names10).reset_index(drop=True)"
   ]
  },
  {
   "cell_type": "code",
   "execution_count": 21,
   "metadata": {},
   "outputs": [],
   "source": [
    "df10[['pop10', 'hisp10', 'white10', 'black10', 'aian10',\n",
    "       'asian10', 'naopi10', 'other_race10', 'multi_race10']]=df10[['pop10', 'hisp10', 'white10', 'black10', 'aian10',\n",
    "       'asian10', 'naopi10', 'other_race10', 'multi_race10']].apply(pd.to_numeric)"
   ]
  },
  {
   "cell_type": "code",
   "execution_count": 22,
   "metadata": {},
   "outputs": [],
   "source": [
    "df10['non_white10']=df10.pop10-df10.white10\n",
    "df10['pct_white10']=(df10.white10*100/df10.pop10).round()\n",
    "df10['pct_non_white10']=(df10.non_white10*100/df10.pop10).round()\n",
    "df10['pct_black10']=(df10.black10*100/df10.pop10).round()"
   ]
  },
  {
   "cell_type": "code",
   "execution_count": 23,
   "metadata": {},
   "outputs": [],
   "source": [
    "df10[\"GEOID10\"]=df10.id.str.replace(\"1500000US\",\"\")\n",
    "df10['bg_name']=df10.bg_name.str.extract(r'(Block Group \\d+, Census Tract \\d+)')"
   ]
  },
  {
   "cell_type": "code",
   "execution_count": 24,
   "metadata": {},
   "outputs": [],
   "source": [
    "df10=df10[['GEOID10', 'bg_name', 'pct_white10', 'pct_non_white10', 'pct_black10']]"
   ]
  },
  {
   "cell_type": "code",
   "execution_count": 25,
   "metadata": {},
   "outputs": [],
   "source": [
    "df10.to_csv(\"2010_pop_bg.csv\", index=False)"
   ]
  },
  {
   "cell_type": "code",
   "execution_count": null,
   "metadata": {},
   "outputs": [],
   "source": []
  }
 ],
 "metadata": {
  "kernelspec": {
   "display_name": "Python 3",
   "language": "python",
   "name": "python3"
  },
  "language_info": {
   "codemirror_mode": {
    "name": "ipython",
    "version": 3
   },
   "file_extension": ".py",
   "mimetype": "text/x-python",
   "name": "python",
   "nbconvert_exporter": "python",
   "pygments_lexer": "ipython3",
   "version": "3.8.5"
  }
 },
 "nbformat": 4,
 "nbformat_minor": 4
}
