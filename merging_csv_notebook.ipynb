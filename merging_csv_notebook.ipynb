{
 "cells": [
  {
   "cell_type": "code",
   "execution_count": 1,
   "metadata": {},
   "outputs": [],
   "source": [
    "import pandas as pd\n",
    "import numpy as np"
   ]
  },
  {
   "cell_type": "code",
   "execution_count": 32,
   "metadata": {},
   "outputs": [],
   "source": [
    "df=pd.read_csv(\"092712052020.csv\")\n",
    "df1=pd.read_csv(\"merged_0306_0926_2020.csv\")"
   ]
  },
  {
   "cell_type": "code",
   "execution_count": 35,
   "metadata": {},
   "outputs": [],
   "source": [
    "df.date=df.date.astype(str) +'20'\n",
    "df.date=pd.to_datetime(df.date, format='%m%d%y')"
   ]
  },
  {
   "cell_type": "code",
   "execution_count": 51,
   "metadata": {},
   "outputs": [],
   "source": [
    "# df1.date=pd.to_datetime(df1.date, format='%Y-%m-%d')"
   ]
  },
  {
   "cell_type": "code",
   "execution_count": 17,
   "metadata": {},
   "outputs": [],
   "source": [
    "# df['tot_cases_conf'] = np.nan\n",
    "# df['tot_cases_prob'] = np.nan"
   ]
  },
  {
   "cell_type": "code",
   "execution_count": 44,
   "metadata": {},
   "outputs": [],
   "source": [
    "df=df[[\"date\", 'tot_cases', 'tot_cases_conf', 'tot_cases_prob', \"tot_deaths\",\n",
    "    \"tot_deaths_conf\", \"tot_deaths_prob\", \"new_cases\", \"new_deaths\" ]]\n",
    "df1=df1[[\"date\", 'tot_cases', 'tot_cases_conf', 'tot_cases_prob', \"tot_deaths\",\n",
    "    \"tot_deaths_conf\", \"tot_deaths_prob\", \"new_cases\", \"new_deaths\" ]]"
   ]
  },
  {
   "cell_type": "code",
   "execution_count": 64,
   "metadata": {},
   "outputs": [],
   "source": [
    "mDec.date=pd.to_datetime(mDec.date.astype(str)+'20', format='%m%d%y')"
   ]
  },
  {
   "cell_type": "code",
   "execution_count": 67,
   "metadata": {},
   "outputs": [],
   "source": [
    "mDec=mDec[[\"date\", 'tot_cases', 'tot_cases_conf', 'tot_cases_prob', \"tot_deaths\",\n",
    "    \"tot_deaths_conf\", \"tot_deaths_prob\", \"new_cases\", \"new_deaths\" ]]"
   ]
  },
  {
   "cell_type": "code",
   "execution_count": 71,
   "metadata": {},
   "outputs": [],
   "source": [
    "merged_1214=pd.concat([mDec, merged_1205]).sort_values(\"date\", ascending=False)"
   ]
  },
  {
   "cell_type": "code",
   "execution_count": 109,
   "metadata": {},
   "outputs": [],
   "source": [
    "jan_df=pd.read_csv(\"121503182021.csv\")"
   ]
  },
  {
   "cell_type": "code",
   "execution_count": 110,
   "metadata": {},
   "outputs": [],
   "source": [
    "jan1=jan_df[jan_df.type == 'Total'].rename(columns={\n",
    "    \"Cases\":\"tot_cases\", \"Deaths\":\"tot_deaths\", \"New Cases\":\"new_cases\", \"New Deaths\":\"new_deaths\"\n",
    "    ,\"New Cases 18 and Under\":\"new_cases_18_and_under\"\n",
    "}).drop(columns=['type']).reset_index(drop=True)\n"
   ]
  },
  {
   "cell_type": "code",
   "execution_count": 111,
   "metadata": {},
   "outputs": [],
   "source": [
    "jan2=jan_df[jan_df.type == 'Confirmed'].rename(columns={\n",
    "    \"Cases\":\"tot_cases_conf\", \"Deaths\":\"tot_deaths_conf\", \"New Cases\":\"new_cases_conf\", \"New Deaths\":\"new_deaths_conf\"\n",
    "    ,\"New Cases 18 and Under\":\"new_cases_18_and_under_conf\"\n",
    "}).drop(columns=['type']).reset_index(drop=True)"
   ]
  },
  {
   "cell_type": "code",
   "execution_count": 112,
   "metadata": {},
   "outputs": [],
   "source": [
    "jan3=jan_df[jan_df.type == 'Probable'].rename(columns={\n",
    "    \"Cases\":\"tot_cases_prob\", \"Deaths\":\"tot_deaths_prob\", \"New Cases\":\"new_cases_prob\", \n",
    "    \"New Deaths\":\"new_deaths_prob\"\n",
    "    ,\"New Cases 18 and Under\":\"new_cases_18_and_under_prob\"\n",
    "}).drop(columns=['type']).reset_index(drop=True)"
   ]
  },
  {
   "cell_type": "code",
   "execution_count": 113,
   "metadata": {},
   "outputs": [],
   "source": [
    "merged_jan=pd.concat([jan1, jan2,jan3], axis=1)"
   ]
  },
  {
   "cell_type": "code",
   "execution_count": 121,
   "metadata": {},
   "outputs": [],
   "source": [
    "merged_jan=merged_jan.T.drop_duplicates().T"
   ]
  },
  {
   "cell_type": "code",
   "execution_count": 125,
   "metadata": {},
   "outputs": [],
   "source": [
    "merged_jan=merged_jan[['date','tot_cases','tot_cases_conf','tot_cases_prob', 'tot_deaths', \n",
    "            'tot_deaths_conf','tot_deaths_prob', 'new_cases', 'new_deaths', \n",
    "            'new_cases_conf', 'new_cases_prob', 'new_deaths_conf', 'new_deaths_prob', \n",
    "            'new_cases_18_and_under','new_cases_18_and_under_conf', \n",
    "            'new_cases_18_and_under_prob']]"
   ]
  },
  {
   "cell_type": "code",
   "execution_count": 127,
   "metadata": {},
   "outputs": [
    {
     "data": {
      "text/html": [
       "<div>\n",
       "<style scoped>\n",
       "    .dataframe tbody tr th:only-of-type {\n",
       "        vertical-align: middle;\n",
       "    }\n",
       "\n",
       "    .dataframe tbody tr th {\n",
       "        vertical-align: top;\n",
       "    }\n",
       "\n",
       "    .dataframe thead th {\n",
       "        text-align: right;\n",
       "    }\n",
       "</style>\n",
       "<table border=\"1\" class=\"dataframe\">\n",
       "  <thead>\n",
       "    <tr style=\"text-align: right;\">\n",
       "      <th></th>\n",
       "      <th>date</th>\n",
       "      <th>tot_cases</th>\n",
       "      <th>tot_cases_conf</th>\n",
       "      <th>tot_cases_prob</th>\n",
       "      <th>tot_deaths</th>\n",
       "      <th>tot_deaths_conf</th>\n",
       "      <th>tot_deaths_prob</th>\n",
       "      <th>new_cases</th>\n",
       "      <th>new_deaths</th>\n",
       "      <th>new_cases_conf</th>\n",
       "      <th>new_cases_prob</th>\n",
       "      <th>new_deaths_conf</th>\n",
       "      <th>new_deaths_prob</th>\n",
       "      <th>new_cases_18_and_under</th>\n",
       "      <th>new_cases_18_and_under_conf</th>\n",
       "      <th>new_cases_18_and_under_prob</th>\n",
       "    </tr>\n",
       "  </thead>\n",
       "  <tbody>\n",
       "    <tr>\n",
       "      <th>0</th>\n",
       "      <td>2021-03-18</td>\n",
       "      <td>419149</td>\n",
       "      <td>320032</td>\n",
       "      <td>99117</td>\n",
       "      <td>5504</td>\n",
       "      <td>4987</td>\n",
       "      <td>517</td>\n",
       "      <td>785</td>\n",
       "      <td>448</td>\n",
       "      <td>472</td>\n",
       "      <td>313</td>\n",
       "      <td>406</td>\n",
       "      <td>42</td>\n",
       "      <td>164</td>\n",
       "      <td>107</td>\n",
       "      <td>57</td>\n",
       "    </tr>\n",
       "    <tr>\n",
       "      <th>1</th>\n",
       "      <td>2021-03-17</td>\n",
       "      <td>418372</td>\n",
       "      <td>319559</td>\n",
       "      <td>98813</td>\n",
       "      <td>5056</td>\n",
       "      <td>4581</td>\n",
       "      <td>475</td>\n",
       "      <td>963</td>\n",
       "      <td>27</td>\n",
       "      <td>593</td>\n",
       "      <td>370</td>\n",
       "      <td>24</td>\n",
       "      <td>3</td>\n",
       "      <td>159</td>\n",
       "      <td>85</td>\n",
       "      <td>74</td>\n",
       "    </tr>\n",
       "    <tr>\n",
       "      <th>2</th>\n",
       "      <td>2021-03-16</td>\n",
       "      <td>417412</td>\n",
       "      <td>318956</td>\n",
       "      <td>98456</td>\n",
       "      <td>5029</td>\n",
       "      <td>4557</td>\n",
       "      <td>472</td>\n",
       "      <td>819</td>\n",
       "      <td>24</td>\n",
       "      <td>462</td>\n",
       "      <td>357</td>\n",
       "      <td>22</td>\n",
       "      <td>2</td>\n",
       "      <td>122</td>\n",
       "      <td>59</td>\n",
       "      <td>63</td>\n",
       "    </tr>\n",
       "    <tr>\n",
       "      <th>3</th>\n",
       "      <td>2021-03-15</td>\n",
       "      <td>416610</td>\n",
       "      <td>318472</td>\n",
       "      <td>98138</td>\n",
       "      <td>5005</td>\n",
       "      <td>4535</td>\n",
       "      <td>470</td>\n",
       "      <td>396</td>\n",
       "      <td>23</td>\n",
       "      <td>310</td>\n",
       "      <td>86</td>\n",
       "      <td>21</td>\n",
       "      <td>2</td>\n",
       "      <td>40</td>\n",
       "      <td>30</td>\n",
       "      <td>10</td>\n",
       "    </tr>\n",
       "    <tr>\n",
       "      <th>4</th>\n",
       "      <td>2021-03-14</td>\n",
       "      <td>416215</td>\n",
       "      <td>318158</td>\n",
       "      <td>98057</td>\n",
       "      <td>4982</td>\n",
       "      <td>4514</td>\n",
       "      <td>468</td>\n",
       "      <td>445</td>\n",
       "      <td>16</td>\n",
       "      <td>349</td>\n",
       "      <td>96</td>\n",
       "      <td>15</td>\n",
       "      <td>1</td>\n",
       "      <td>78</td>\n",
       "      <td>62</td>\n",
       "      <td>16</td>\n",
       "    </tr>\n",
       "  </tbody>\n",
       "</table>\n",
       "</div>"
      ],
      "text/plain": [
       "         date tot_cases tot_cases_conf tot_cases_prob tot_deaths  \\\n",
       "0  2021-03-18    419149         320032          99117       5504   \n",
       "1  2021-03-17    418372         319559          98813       5056   \n",
       "2  2021-03-16    417412         318956          98456       5029   \n",
       "3  2021-03-15    416610         318472          98138       5005   \n",
       "4  2021-03-14    416215         318158          98057       4982   \n",
       "\n",
       "  tot_deaths_conf tot_deaths_prob new_cases new_deaths new_cases_conf  \\\n",
       "0            4987             517       785        448            472   \n",
       "1            4581             475       963         27            593   \n",
       "2            4557             472       819         24            462   \n",
       "3            4535             470       396         23            310   \n",
       "4            4514             468       445         16            349   \n",
       "\n",
       "  new_cases_prob new_deaths_conf new_deaths_prob new_cases_18_and_under  \\\n",
       "0            313             406              42                    164   \n",
       "1            370              24               3                    159   \n",
       "2            357              22               2                    122   \n",
       "3             86              21               2                     40   \n",
       "4             96              15               1                     78   \n",
       "\n",
       "  new_cases_18_and_under_conf new_cases_18_and_under_prob  \n",
       "0                         107                          57  \n",
       "1                          85                          74  \n",
       "2                          59                          63  \n",
       "3                          30                          10  \n",
       "4                          62                          16  "
      ]
     },
     "execution_count": 127,
     "metadata": {},
     "output_type": "execute_result"
    }
   ],
   "source": [
    "#save this file for later\n",
    "merged_jan.head()"
   ]
  },
  {
   "cell_type": "code",
   "execution_count": 138,
   "metadata": {},
   "outputs": [],
   "source": [
    "merged_0318=pd.concat([merged_jan, merged_1214]).reset_index(drop=True)"
   ]
  },
  {
   "cell_type": "code",
   "execution_count": 146,
   "metadata": {},
   "outputs": [],
   "source": [
    "df=pd.read_csv(\"031906012021.csv\")"
   ]
  },
  {
   "cell_type": "code",
   "execution_count": 153,
   "metadata": {},
   "outputs": [],
   "source": [
    "df1=df[df.type == 'Total'].rename(columns={\n",
    "    \"Cases\":\"tot_cases\", \"Deaths\":\"tot_deaths\", \"New Cases\":\"new_cases\", \"New Deaths\":\"new_deaths\", \n",
    "    \"New Audit Deaths\":\"audit_deaths\",\n",
    "    \"New Cases 18 and Under\":\"new_cases_18_and_under\"\n",
    "}).drop(columns=['type', 'Total New Deaths']).reset_index(drop=True)\n",
    "\n",
    "df2=df[df.type == 'Confirmed'].rename(columns={\n",
    "    \"Cases\":\"tot_cases_conf\", \"Deaths\":\"tot_deaths_conf\", \"New Cases\":\"new_cases_conf\", \"New Deaths\":\"new_deaths_conf\"\n",
    "    ,\"New Cases 18 and Under\":\"new_cases_18_and_under_conf\"\n",
    "}).drop(columns=['type','New Audit Deaths', 'Total New Deaths']).reset_index(drop=True)\n",
    "\n",
    "df3=df[df.type == 'Probable'].rename(columns={\n",
    "    \"Cases\":\"tot_cases_prob\", \"Deaths\":\"tot_deaths_prob\", \"New Cases\":\"new_cases_prob\", \n",
    "    \"New Deaths\":\"new_deaths_prob\"\n",
    "    ,\"New Cases 18 and Under\":\"new_cases_18_and_under_prob\"\n",
    "}).drop(columns=['type', 'New Audit Deaths','Total New Deaths']).reset_index(drop=True)\n"
   ]
  },
  {
   "cell_type": "code",
   "execution_count": 159,
   "metadata": {},
   "outputs": [
    {
     "data": {
      "text/plain": [
       "Index(['tot_cases', 'tot_deaths', 'new_cases', 'new_cases_18_and_under',\n",
       "       'new_deaths', 'audit_deaths', 'date', 'tot_cases_conf',\n",
       "       'tot_deaths_conf', 'new_cases_conf', 'new_cases_18_and_under_conf',\n",
       "       'new_deaths_conf', 'tot_cases_prob', 'tot_deaths_prob',\n",
       "       'new_cases_prob', 'new_cases_18_and_under_prob', 'new_deaths_prob'],\n",
       "      dtype='object')"
      ]
     },
     "execution_count": 159,
     "metadata": {},
     "output_type": "execute_result"
    }
   ],
   "source": [
    "merged_df=pd.concat([df1, df2,df3], axis=1).T.drop_duplicates().T\n",
    "\n",
    "merged_df.columns"
   ]
  },
  {
   "cell_type": "code",
   "execution_count": 162,
   "metadata": {},
   "outputs": [],
   "source": [
    "merged_df=merged_df[['date','tot_cases','tot_cases_conf','tot_cases_prob', 'tot_deaths', \n",
    "            'tot_deaths_conf','tot_deaths_prob', 'new_cases', 'new_deaths', 'audit_deaths',\n",
    "            'new_cases_conf', 'new_cases_prob', 'new_deaths_conf', 'new_deaths_prob', \n",
    "            'new_cases_18_and_under','new_cases_18_and_under_conf', \n",
    "            'new_cases_18_and_under_prob']]"
   ]
  },
  {
   "cell_type": "code",
   "execution_count": 172,
   "metadata": {},
   "outputs": [],
   "source": [
    "df_0601=pd.concat([merged_df, merged_0318]).reset_index(drop=True)"
   ]
  },
  {
   "cell_type": "code",
   "execution_count": 189,
   "metadata": {},
   "outputs": [],
   "source": [
    "df=pd.read_csv(\"060207232021.csv\")"
   ]
  },
  {
   "cell_type": "code",
   "execution_count": 192,
   "metadata": {},
   "outputs": [],
   "source": [
    "df1=df[df.type == 'Total'].rename(columns={\n",
    "    \"Cases\":\"tot_cases\", \"Deaths\":\"tot_deaths\", \"New Cases\":\"new_cases\", \"Total New Deaths\":\"new_deaths\", \n",
    "    \"New Cases 18 and Under\":\"new_cases_18_and_under\"\n",
    "}).drop(columns=['type']).reset_index(drop=True)\n",
    "\n",
    "df2=df[df.type == 'Confirmed'].rename(columns={\n",
    "    \"Cases\":\"tot_cases_conf\", \"Deaths\":\"tot_deaths_conf\", \"New Cases\":\"new_cases_conf\", \"Total New Deaths\":\"new_deaths_conf\"\n",
    "    ,\"New Cases 18 and Under\":\"new_cases_18_and_under_conf\"\n",
    "}).drop(columns=['type']).reset_index(drop=True)\n",
    "\n",
    "df3=df[df.type == 'Probable'].rename(columns={\n",
    "    \"Cases\":\"tot_cases_prob\", \"Deaths\":\"tot_deaths_prob\", \"New Cases\":\"new_cases_prob\", \n",
    "    \"Total New Deaths\":\"new_deaths_prob\"\n",
    "    ,\"New Cases 18 and Under\":\"new_cases_18_and_under_prob\"\n",
    "}).drop(columns=['type']).reset_index(drop=True)\n"
   ]
  },
  {
   "cell_type": "code",
   "execution_count": 199,
   "metadata": {},
   "outputs": [],
   "source": [
    "merged_df=pd.concat([df1, df2,df3], axis=1).T.drop_duplicates().T\n",
    "merged_df=merged_df[['date','tot_cases','tot_cases_conf','tot_cases_prob', 'tot_deaths', \n",
    "            'tot_deaths_conf','tot_deaths_prob', 'new_cases', 'new_deaths',\n",
    "            'new_cases_conf', 'new_cases_prob', 'new_deaths_conf', 'new_deaths_prob', \n",
    "            'new_cases_18_and_under','new_cases_18_and_under_conf', \n",
    "            'new_cases_18_and_under_prob']]"
   ]
  },
  {
   "cell_type": "code",
   "execution_count": 204,
   "metadata": {},
   "outputs": [],
   "source": [
    "df_0723=pd.concat([df_0601, merged_df]).reset_index(drop=True)"
   ]
  },
  {
   "cell_type": "code",
   "execution_count": 210,
   "metadata": {},
   "outputs": [],
   "source": [
    "df_0723.date=pd.to_datetime(df_0723.date, format='%Y-%m-%d')"
   ]
  },
  {
   "cell_type": "code",
   "execution_count": 214,
   "metadata": {},
   "outputs": [],
   "source": [
    "df_0723=df_0723.sort_values('date', ascending=False)"
   ]
  },
  {
   "cell_type": "code",
   "execution_count": 215,
   "metadata": {},
   "outputs": [],
   "source": [
    "df_0723.to_csv(\"covid_data_0723.csv\", index=False)"
   ]
  },
  {
   "cell_type": "code",
   "execution_count": null,
   "metadata": {},
   "outputs": [],
   "source": []
  }
 ],
 "metadata": {
  "kernelspec": {
   "display_name": "Python 3",
   "language": "python",
   "name": "python3"
  },
  "language_info": {
   "codemirror_mode": {
    "name": "ipython",
    "version": 3
   },
   "file_extension": ".py",
   "mimetype": "text/x-python",
   "name": "python",
   "nbconvert_exporter": "python",
   "pygments_lexer": "ipython3",
   "version": "3.8.5"
  }
 },
 "nbformat": 4,
 "nbformat_minor": 4
}
